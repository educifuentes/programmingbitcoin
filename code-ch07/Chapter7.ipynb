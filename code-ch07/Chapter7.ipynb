{
 "cells": [
  {
   "cell_type": "code",
   "execution_count": 1,
   "metadata": {},
   "outputs": [],
   "source": [
    "############## PLEASE RUN THIS CELL FIRST! ###################\n",
    "\n",
    "# import everything and define a test runner function\n",
    "from importlib import reload\n",
    "from helper import run\n",
    "import ecc\n",
    "import helper\n",
    "import tx\n",
    "import script"
   ]
  },
  {
   "cell_type": "code",
   "execution_count": 2,
   "metadata": {},
   "outputs": [
    {
     "name": "stdout",
     "output_type": "stream",
     "text": [
      "True\n"
     ]
    }
   ],
   "source": [
    "from tx import Tx\n",
    "from io import BytesIO\n",
    "raw_tx = ('0100000001813f79011acb80925dfe69b3def355fe914bd1d96a3f5f71bf8303c6a989c7d1000000006b483045022100ed81ff192e75a3fd2304004dcadb746fa5e24c5031ccfcf21320b0277457c98f02207a986d955c6e0cb35d446a89d3f56100f4d7f67801c31967743a9c8e10615bed01210349fc4e631e3624a545de3f89f5d8684c7b8138bd94bdd531d2e213bf016b278afeffffff02a135ef01000000001976a914bc3b654dca7e56b04dca18f2566cdaf02e8d9ada88ac99c39800000000001976a9141c4bc762dd5423e332166702cb75f40df79fea1288ac19430600')\n",
    "stream = BytesIO(bytes.fromhex(raw_tx))\n",
    "transaction = Tx.parse(stream)\n",
    "print(transaction.fee() >= 0)"
   ]
  },
  {
   "cell_type": "code",
   "execution_count": 3,
   "metadata": {},
   "outputs": [
    {
     "name": "stdout",
     "output_type": "stream",
     "text": [
      "True\n"
     ]
    }
   ],
   "source": [
    "from ecc import S256Point, Signature\n",
    "sec = bytes.fromhex('0349fc4e631e3624a545de3f89f5d8684c7b8138bd94bdd531d2e213bf016b278a')\n",
    "der = bytes.fromhex('3045022100ed81ff192e75a3fd2304004dcadb746fa5e24c5031ccfcf21320b0277457c98f02207a986d955c6e0cb35d446a89d3f56100f4d7f67801c31967743a9c8e10615bed')\n",
    "z = 0x27e0c5994dec7824e56dec6b2fcb342eb7cdb0d0957c2fce9882f715e85d81a6\n",
    "point = S256Point.parse(sec)\n",
    "signature = Signature.parse(der)\n",
    "print(point.verify(z, signature))"
   ]
  },
  {
   "cell_type": "code",
   "execution_count": 4,
   "metadata": {},
   "outputs": [
    {
     "name": "stdout",
     "output_type": "stream",
     "text": [
      "0x27e0c5994dec7824e56dec6b2fcb342eb7cdb0d0957c2fce9882f715e85d81a6\n"
     ]
    }
   ],
   "source": [
    "from helper import hash256\n",
    "modified_tx = bytes.fromhex('0100000001813f79011acb80925dfe69b3def355fe914bd1d96a3f5f71bf8303c6a989c7d1000000001976a914a802fc56c704ce87c42d7c92eb75e7896bdc41ae88acfeffffff02a135ef01000000001976a914bc3b654dca7e56b04dca18f2566cdaf02e8d9ada88ac99c39800000000001976a9141c4bc762dd5423e332166702cb75f40df79fea1288ac1943060001000000')\n",
    "h256 = hash256(modified_tx)\n",
    "z = int.from_bytes(h256, 'big')\n",
    "print(hex(z))"
   ]
  },
  {
   "cell_type": "code",
   "execution_count": 5,
   "metadata": {},
   "outputs": [
    {
     "data": {
      "text/plain": [
       "True"
      ]
     },
     "execution_count": 5,
     "metadata": {},
     "output_type": "execute_result"
    }
   ],
   "source": [
    "from ecc import S256Point, Signature\n",
    "sec = bytes.fromhex('0349fc4e631e3624a545de3f89f5d8684c7b8138bd94bdd531d2e213bf016b278a')\n",
    "der = bytes.fromhex('3045022100ed81ff192e75a3fd2304004dcadb746fa5e24c5031ccfcf21320b0277457c98f02207a986d955c6e0cb35d446a89d3f56100f4d7f67801c31967743a9c8e10615bed')\n",
    "z = 0x27e0c5994dec7824e56dec6b2fcb342eb7cdb0d0957c2fce9882f715e85d81a6\n",
    "point = S256Point.parse(sec)\n",
    "signature = Signature.parse(der)\n",
    "point.verify(z, signature)"
   ]
  },
  {
   "cell_type": "markdown",
   "metadata": {},
   "source": [
    "### Exercise 1\n",
    "\n",
    "Write the `sig_hash` method for the `Tx` class.\n",
    "\n",
    "#### Make [this test](/edit/code-ch07/tx.py) pass: `tx.py:TxTest:test_sig_hash`"
   ]
  },
  {
   "cell_type": "code",
   "execution_count": 6,
   "metadata": {},
   "outputs": [
    {
     "name": "stderr",
     "output_type": "stream",
     "text": [
      ".\n",
      "----------------------------------------------------------------------\n",
      "Ran 1 test in 0.002s\n",
      "\n",
      "OK\n"
     ]
    }
   ],
   "source": [
    "# Exercise 1\n",
    "\n",
    "reload(tx)\n",
    "run(tx.TxTest(\"test_sig_hash\"))"
   ]
  },
  {
   "cell_type": "markdown",
   "metadata": {},
   "source": [
    "### Exercise 2\n",
    "\n",
    "Write the `verify_input` method for the `Tx` class. You will want to use the `TxIn.script_pubkey()`, `Tx.sig_hash()` and `Script.evaluate()` methods.\n",
    "\n",
    "#### Make [this test](/edit/code-ch07/tx.py) pass: `tx.py:TxTest:test_verify_p2pkh`"
   ]
  },
  {
   "cell_type": "code",
   "execution_count": 11,
   "metadata": {},
   "outputs": [
    {
     "name": "stdout",
     "output_type": "stream",
     "text": [
      "<class 'script.Script'>\n",
      "<class 'script.Script'>\n"
     ]
    },
    {
     "name": "stderr",
     "output_type": "stream",
     "text": [
      ".\n",
      "----------------------------------------------------------------------\n",
      "Ran 1 test in 0.254s\n",
      "\n",
      "OK\n"
     ]
    }
   ],
   "source": [
    "# Exercise 2\n",
    "\n",
    "reload(tx)\n",
    "run(tx.TxTest(\"test_verify_p2pkh\"))"
   ]
  },
  {
   "cell_type": "code",
   "execution_count": 12,
   "metadata": {},
   "outputs": [
    {
     "name": "stdout",
     "output_type": "stream",
     "text": [
      "tx: cd30a8da777d28ef0e61efe68a9f7c559c1d3e5bcd7b265c850ccb4068598d11\n",
      "version: 1\n",
      "tx_ins:\n",
      "0d6fe5213c0b3291f208cba8bfb59b7476dffacc4e5cb66f6eb20a080843a299:13\n",
      "tx_outs:\n",
      "33000000:OP_DUP OP_HASH160 d52ad7ca9b3d096a38e752c2018e6fbc40cdf26f OP_EQUALVERIFY OP_CHECKSIG\n",
      "10000000:OP_DUP OP_HASH160 507b27411ccf7f16f10297de6cef3f291623eddf OP_EQUALVERIFY OP_CHECKSIG\n",
      "locktime: 0\n"
     ]
    }
   ],
   "source": [
    "from helper import decode_base58, SIGHASH_ALL\n",
    "from script import p2pkh_script, Script\n",
    "from tx import TxIn, TxOut, Tx\n",
    "prev_tx = bytes.fromhex('0d6fe5213c0b3291f208cba8bfb59b7476dffacc4e5cb66f6eb20a080843a299')\n",
    "prev_index = 13\n",
    "tx_in = TxIn(prev_tx, prev_index)\n",
    "tx_outs = []\n",
    "change_amount = int(0.33*100000000)\n",
    "change_h160 = decode_base58('mzx5YhAH9kNHtcN481u6WkjeHjYtVeKVh2')\n",
    "change_script = p2pkh_script(change_h160)\n",
    "change_output = TxOut(amount=change_amount, script_pubkey=change_script)\n",
    "target_amount = int(0.1*100000000)\n",
    "target_h160 = decode_base58('mnrVtF8DWjMu839VW3rBfgYaAfKk8983Xf')\n",
    "target_script = p2pkh_script(target_h160)\n",
    "target_output = TxOut(amount=target_amount, script_pubkey=target_script)\n",
    "tx_obj = Tx(1, [tx_in], [change_output, target_output], 0, True)\n",
    "print(tx_obj)"
   ]
  },
  {
   "cell_type": "code",
   "execution_count": null,
   "metadata": {},
   "outputs": [],
   "source": [
    "from ecc import PrivateKey\n",
    "from helper import SIGHASH_ALL\n",
    "z = transaction.sig_hash(0)\n",
    "private_key = PrivateKey(secret=8675309)\n",
    "der = private_key.sign(z).der()\n",
    "sig = der + SIGHASH_ALL.to_bytes(1, 'big')\n",
    "sec = private_key.point.sec()\n",
    "script_sig = Script([sig, sec])\n",
    "transaction.tx_ins[0].script_sig = script_sig \n",
    "print(transaction.serialize().hex())"
   ]
  },
  {
   "cell_type": "code",
   "execution_count": 13,
   "metadata": {},
   "outputs": [
    {
     "name": "stdout",
     "output_type": "stream",
     "text": [
      "mn81594PzKZa9K3Jyy1ushpuEzrnTnxhVg\n"
     ]
    }
   ],
   "source": [
    "from ecc import PrivateKey\n",
    "from helper import hash256, little_endian_to_int\n",
    "secret = little_endian_to_int(hash256(b'Jimmy Song secret'))\n",
    "private_key = PrivateKey(secret)\n",
    "print(private_key.point.address(testnet=True))"
   ]
  },
  {
   "cell_type": "markdown",
   "metadata": {},
   "source": [
    "### Exercise 3\n",
    "\n",
    "Write the `sign_input` method for the `Tx` class.\n",
    "\n",
    "#### Make [this test](/edit/code-ch07/tx.py) pass: `tx.py:TxTest:test_sign_input`"
   ]
  },
  {
   "cell_type": "code",
   "execution_count": 14,
   "metadata": {},
   "outputs": [
    {
     "name": "stderr",
     "output_type": "stream",
     "text": [
      ".\n",
      "----------------------------------------------------------------------\n",
      "Ran 1 test in 0.198s\n",
      "\n",
      "OK\n"
     ]
    }
   ],
   "source": [
    "# Exercise 3\n",
    "\n",
    "reload(tx)\n",
    "run(tx.TxTest(\"test_sign_input\"))"
   ]
  },
  {
   "cell_type": "markdown",
   "metadata": {},
   "source": [
    "## My new address"
   ]
  },
  {
   "cell_type": "code",
   "execution_count": 6,
   "metadata": {},
   "outputs": [
    {
     "name": "stdout",
     "output_type": "stream",
     "text": [
      "mzBKFS9qB99RfwGtNupG9zBftfWoQ8BWa1\n"
     ]
    }
   ],
   "source": [
    "# create another address , new\n",
    "from ecc import PrivateKey\n",
    "from helper import hash256, little_endian_to_int\n",
    "\n",
    "secret = little_endian_to_int(hash256(b'edu little ultra secret'))\n",
    "private_key = PrivateKey(secret)\n",
    "\n",
    "address = private_key.point.address(compressed=True, testnet=True)\n",
    "print(address)"
   ]
  },
  {
   "cell_type": "markdown",
   "metadata": {},
   "source": [
    "## adress new 2"
   ]
  },
  {
   "cell_type": "code",
   "execution_count": 8,
   "metadata": {},
   "outputs": [
    {
     "name": "stdout",
     "output_type": "stream",
     "text": [
      "n2tCd4ydaDccWvL3FQg3v8VhfdPpETVjfg\n"
     ]
    }
   ],
   "source": [
    "from ecc import PrivateKey\n",
    "from helper import hash256, little_endian_to_int\n",
    "\n",
    "secret = little_endian_to_int(hash256(b'edu little ultra secret for a second time'))\n",
    "private_key = PrivateKey(secret)\n",
    "\n",
    "address = private_key.point.address(compressed=True, testnet=True)\n",
    "print(address)"
   ]
  },
  {
   "cell_type": "markdown",
   "metadata": {},
   "source": [
    "### Exercise 4\n",
    "\n",
    "Create a testnet transaction that sends 60% of a single UTXO to `mwJn1YPMq7y5F8J3LkC5Hxg9PHyZ5K4cFv`. The remaining amount minus fees should go back to your own change address. This should be a 1 input, 2 output transaction.\n",
    "\n",
    "You can broadcast the transaction at https://testnet.blockchain.info/pushtx"
   ]
  },
  {
   "cell_type": "code",
   "execution_count": 10,
   "metadata": {},
   "outputs": [
    {
     "name": "stdout",
     "output_type": "stream",
     "text": [
      "sign input 1:\n",
      "True\n",
      "01000000011f31017def778c35fb8656f92f510f352079d173e7f19d665a6cc844bb2d68df010000006a47304402200389ebb14d045eff0333cca9d9265e94ae88a085ed36e60a045e168f70f95156022069caa5f11896c97cce3443ca391d8d338099a42abecf0306778b99570dcf70d3012103845fa8a598dcd0355fb972ae19c8685b8ba39bdbf02c834d70df57280b7409e9ffffffff02dc500000000000001976a914ad346f8eb57dee9a37981716e498120ae80e44f788accb340000000000001976a914ea5f5641ff719e3ffbe217183feb06b28ace32e288ac00000000\n"
     ]
    }
   ],
   "source": [
    "# Exercise 4\n",
    "\n",
    "from ecc import PrivateKey\n",
    "from helper import decode_base58, SIGHASH_ALL\n",
    "from script import p2pkh_script, Script\n",
    "from tx import TxIn, TxOut, Tx\n",
    "\n",
    "# create 1 TxIn and 2 TxOuts\n",
    "# 1 of the TxOuts should be back to your address\n",
    "# the other TxOut should be to this address\n",
    "target_address = 'mwJn1YPMq7y5F8J3LkC5Hxg9PHyZ5K4cFv'\n",
    "\n",
    "# get the private key from the exercise in Chapter 4\n",
    "secret = little_endian_to_int(hash256(b'edu little ultra secret for a second time'))\n",
    "private_key = PrivateKey(secret)\n",
    "\n",
    "# change address should be the address generated from Chapter 4\n",
    "change_address = \"n2tCd4ydaDccWvL3FQg3v8VhfdPpETVjfg\"\n",
    "\n",
    "# get the prev_tx and prev_index from the transaction where you got\n",
    "# some testnet coins\n",
    "prev_tx = bytes.fromhex(\"df682dbb44c86c5a669df1e773d17920350f512ff95686fb358c77ef7d01311f\")\n",
    "prev_index = 1\n",
    "# create a transaction input for the previous transaction with\n",
    "# the default ScriptSig and sequence\n",
    "input_1 = TxIn(prev_tx, prev_index)\n",
    "tx_ins = []\n",
    "tx_ins.append(input_1)\n",
    "\n",
    "prev_tx_amount = 0.000345\n",
    "\n",
    "# target amount should be 60% of the output amount\n",
    "target_amount = 0.000345 * 0.6\n",
    "# set the fee to some reasonable amount\n",
    "fee = 0.00000285\n",
    "# change amount = amount from the prev tx - target amount - fee\n",
    "change_amount = prev_tx_amount - target_amount - fee\n",
    "\n",
    "# create a transaction output for the target amount and address\n",
    "tx_outs = []\n",
    "\n",
    "h160 = decode_base58(target_address)\n",
    "script_pubkey = p2pkh_script(h160)\n",
    "target_satoshis = int(target_amount*100_000_000)\n",
    "output_1 = TxOut(target_satoshis, script_pubkey)\n",
    "\n",
    "h160 = decode_base58(change_address)\n",
    "script_pubkey = p2pkh_script(h160)\n",
    "change_satoshis = int(change_amount*100_000_000)\n",
    "output_2 = TxOut(change_satoshis, script_pubkey)\n",
    "\n",
    "# create a transaction output for the change amount and address\n",
    "tx_outs.append(output_1)\n",
    "tx_outs.append(output_2)\n",
    "\n",
    "# create the transaction object\n",
    "tx_obj = Tx(1, tx_ins, tx_outs, 0, testnet=True)\n",
    "\n",
    "# sign the one input in the transaction object using the private key\n",
    "sign = tx_obj.sign_input(0, private_key)\n",
    "print(\"sign input 1:\")\n",
    "print(sign)\n",
    "# print the transaction's serialization in hex\n",
    "print(tx_obj.serialize().hex())\n",
    "# broadcast at http://testnet.blockchain.info/pushtx"
   ]
  },
  {
   "cell_type": "markdown",
   "metadata": {},
   "source": [
    "see tx in [mempool](#)"
   ]
  },
  {
   "cell_type": "code",
   "execution_count": null,
   "metadata": {},
   "outputs": [],
   "source": []
  },
  {
   "cell_type": "markdown",
   "metadata": {},
   "source": [
    "### Exercise 5\n",
    "\n",
    "Advanced: get some more testnet coins from a testnet faucet and create a 2 input, 1 output transaction. 1 input should be from the faucet, the other should be from the previous exercise, the output can be your own address.\n",
    "\n",
    "You can broadcast the transaction at https://testnet.blockchain.info/pushtx"
   ]
  },
  {
   "cell_type": "markdown",
   "metadata": {},
   "source": [
    "set up a second tx in faucet\n",
    "0.000155 coins sent to n2tCd4ydaDccWvL3FQg3v8VhfdPpETVjfg\n",
    "\n",
    "tx id: 7dfe12ccb6990f7a440af4497ebf122bae98dfa4f48a63d0896fc4c5de86c88b\n",
    "\n",
    "## chpater 4 original\n",
    "tx id: df682dbb44c86c5a669df1e773d17920350f512ff95686fb358c77ef7d01311f\n",
    "recived 0.00034500 tBTC\n"
   ]
  },
  {
   "cell_type": "code",
   "execution_count": 22,
   "metadata": {},
   "outputs": [
    {
     "name": "stdout",
     "output_type": "stream",
     "text": [
      "sign_input_1: True\n",
      "sign_input_2: True\n",
      "Tx in hex:  01000000028bc886dec5c46f89d0638af4a4df98ae2b12bf7e49f40a447a0f99b6cc12fe7d000000006a47304402203f0d5443fe6ad04c4fa317c17685a815bb513adcf9baa864d1d55f7139b76e5502202ae7d62a74349f5ce03dbfc12e3ed4ec51b1056c3d968e7d52b5d6a046be0466012103845fa8a598dcd0355fb972ae19c8685b8ba39bdbf02c834d70df57280b7409e9ffffffff7dc45311c727a212019ad76f263b2e2181e3ea2f91a7a71858f18e55777d594d010000006a473044022037f717d3f7f324973902dd5bde0800123d4edf5821bdd933d63ee596c420e07b02206dc986063ff080f8b9903dfeb04eca1ac82db5a4c312845ea32781d90b640cf6012103845fa8a598dcd0355fb972ae19c8685b8ba39bdbf02c834d70df57280b7409e9ffffffff01fd6f0000000000001976a914ea5f5641ff719e3ffbe217183feb06b28ace32e288ac00000000\n"
     ]
    }
   ],
   "source": [
    "# Exercise 5\n",
    "\n",
    "from ecc import PrivateKey\n",
    "from helper import decode_base58, SIGHASH_ALL\n",
    "from script import p2pkh_script, Script\n",
    "from tx import TxIn, TxOut, Tx\n",
    "\n",
    "# Create 2 TxIns, 1 from the Exercise 4 and 1 from a testnet faucet\n",
    "# Creat 1 TxOut to the address above\n",
    "target_address = 'n2tCd4ydaDccWvL3FQg3v8VhfdPpETVjfg'\n",
    "\n",
    "# get the private key from the exercise in Chapter 4\n",
    "secret = little_endian_to_int(hash256(b'edu little ultra secret for a second time'))\n",
    "private_key = PrivateKey(secret)\n",
    "\n",
    "# get the prev_tx and prev_index from the transaction where you got\n",
    "# some testnet coins\n",
    "# first\n",
    "\n",
    "# input 1\n",
    "prev_tx_1 = bytes.fromhex(\"7dfe12ccb6990f7a440af4497ebf122bae98dfa4f48a63d0896fc4c5de86c88b\")\n",
    "prev_index_1 = 0\n",
    "\n",
    "# create the first transaction input with the default ScriptSig and\n",
    "# sequence\n",
    "input_1 = TxIn(prev_tx_1, prev_index_1)\n",
    "\n",
    "tx_ins = []\n",
    "tx_ins.append(input_1)\n",
    "\n",
    "# input 2\n",
    "# get the prev_tx and prev_index from the transaction in Exercise 4\n",
    "prev_tx_2 = bytes.fromhex(\"4d597d77558ef15818a7a7912feae381212e3b266fd79a0112a227c71153c47d\")\n",
    "prev_index_2 = 1\n",
    "# create the second transaction input with the default ScriptSig and\n",
    "# sequence\n",
    "input_2 = TxIn(prev_tx_2, prev_index_2)\n",
    "tx_ins.append(input_2)\n",
    "\n",
    "# set the fee to some reasonable amount\n",
    "fee_amount = 0.00000345\n",
    "# fee_satoshis = int(fee_amount*100_000_000)\n",
    "# target amount should be the sum of the inputs - fee\n",
    "# target_amount_satoshis = input_1.value(testnet=True) + input_2.value(testnet=True) - fee_satoshis\n",
    "target_amount = 0.00015500 + 0.00013515  - fee_amount # 0.0002867\n",
    "target_satoshis = int(target_amount * 100_000_000)\n",
    "# create a transaction output for the amount and address\n",
    "tx_outs = []\n",
    "h160 = decode_base58(target_address)\n",
    "script_pubkey = p2pkh_script(h160)\n",
    "# target_satoshis = int(target_amount*100000000)\n",
    "output_1 = TxOut(target_satoshis, script_pubkey)\n",
    "\n",
    "tx_outs.append(output_1)\n",
    "\n",
    "tx_obj = Tx(1, tx_ins, tx_outs, 0, testnet=True)\n",
    "\n",
    "# sign the first input using the private key\n",
    "print(\"sign_input_1:\", tx_obj.sign_input(0, private_key))\n",
    "# sign the second input using the private key \n",
    "print(\"sign_input_2:\", tx_obj.sign_input(1, private_key))\n",
    "\n",
    "# print the transaction's serialization in hex\n",
    "print(\"Tx in hex: \", tx_obj.serialize().hex())\n",
    "# broadcast at http://testnet.blockchain.info/pushtx"
   ]
  },
  {
   "cell_type": "markdown",
   "metadata": {},
   "source": [
    "ee Tx in [mempool](https://mempool.space/testnet/tx/8a96cee8d4a6e96b3bc130dbf8382f56c3592a4d43636c67463ffa0dc232560a)\n",
    "\n",
    "tx id: 8a96cee8d4a6e96b3bc130dbf8382f56c3592a4d43636c67463ffa0dc232560a"
   ]
  },
  {
   "cell_type": "markdown",
   "metadata": {},
   "source": [
    "My address in [mempoool](https://mempool.space/testnet/address/n2tCd4ydaDccWvL3FQg3v8VhfdPpETVjfg)"
   ]
  },
  {
   "cell_type": "markdown",
   "metadata": {},
   "source": []
  }
 ],
 "metadata": {
  "kernelspec": {
   "display_name": "Python 3.9.12 ('.venv': venv)",
   "language": "python",
   "name": "python3"
  },
  "language_info": {
   "codemirror_mode": {
    "name": "ipython",
    "version": 3
   },
   "file_extension": ".py",
   "mimetype": "text/x-python",
   "name": "python",
   "nbconvert_exporter": "python",
   "pygments_lexer": "ipython3",
   "version": "3.9.12"
  },
  "vscode": {
   "interpreter": {
    "hash": "b7102f2d52e713a4ed6428cfa5d9ec7f032656fa63b4b67d9fcc75b9acfee6bc"
   }
  }
 },
 "nbformat": 4,
 "nbformat_minor": 2
}
