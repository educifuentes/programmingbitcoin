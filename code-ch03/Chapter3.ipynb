{
 "cells": [
  {
   "cell_type": "code",
   "execution_count": 1,
   "metadata": {},
   "outputs": [],
   "source": [
    "############## PLEASE RUN THIS CELL FIRST! ###################\n",
    "\n",
    "# import everything and define a test runner function\n",
    "from importlib import reload\n",
    "from helper import run\n",
    "import ecc\n",
    "import helper\n",
    "\n",
    "from ecc import FieldElement, Point"
   ]
  },
  {
   "cell_type": "markdown",
   "metadata": {},
   "source": [
    "### Exercise 1\n",
    "\n",
    "Evaluate whether these points are on the curve \\\\(y^{2}\\\\)=\\\\(x^{3}\\\\)+7 over \\\\(F_{223}\\\\)\n",
    "\n",
    "(192,105), (17,56), (200,119), (1,193), (42,99)"
   ]
  },
  {
   "cell_type": "code",
   "execution_count": 2,
   "metadata": {},
   "outputs": [
    {
     "name": "stdout",
     "output_type": "stream",
     "text": [
      "(192, 105) True\n",
      "(17, 56) True\n",
      "(200, 119) False\n",
      "(1, 193) True\n",
      "(42, 99) False\n"
     ]
    }
   ],
   "source": [
    "# Exercise 1\n",
    "\n",
    "prime = 223\n",
    "a = FieldElement(0, prime)\n",
    "b = FieldElement(7, prime)\n",
    "\n",
    "# (192,105), (17,56), (200,119), (1,193), (42,99)\n",
    "x = FieldElement(192, prime)\n",
    "y = FieldElement(105, prime)\n",
    "Point(x,y,a,b)\n",
    "\n",
    "for x,y in [(192,105), (17,56), (200,119), (1,193), (42,99)]:\n",
    "    print(f'({x}, {y})', end = \" \")\n",
    "    x = FieldElement(x, prime)\n",
    "    y = FieldElement(y, prime)\n",
    "    print( y**2 == x**3 + a*x+ b)\n",
    "\n"
   ]
  },
  {
   "cell_type": "code",
   "execution_count": 3,
   "metadata": {},
   "outputs": [
    {
     "name": "stdout",
     "output_type": "stream",
     "text": [
      "Point(192,105)_0_7 FieldElement(223)\n"
     ]
    }
   ],
   "source": [
    "from ecc import FieldElement, Point\n",
    "a = FieldElement(num=0, prime=223)\n",
    "b = FieldElement(num=7, prime=223)\n",
    "x = FieldElement(num=192, prime=223)\n",
    "y = FieldElement(num=105, prime=223)\n",
    "p1 = Point(x, y, a, b)\n",
    "print(p1)"
   ]
  },
  {
   "cell_type": "code",
   "execution_count": 4,
   "metadata": {},
   "outputs": [
    {
     "name": "stdout",
     "output_type": "stream",
     "text": [
      "Point(170,142)_0_7 FieldElement(223)\n"
     ]
    }
   ],
   "source": [
    "from ecc import FieldElement, Point\n",
    "prime = 223\n",
    "a = FieldElement(num=0, prime=prime)\n",
    "b = FieldElement(num=7, prime=prime)\n",
    "x1 = FieldElement(num=192, prime=prime)\n",
    "y1 = FieldElement(num=105, prime=prime)\n",
    "x2 = FieldElement(num=17, prime=prime)\n",
    "y2 = FieldElement(num=56, prime=prime)\n",
    "p1 = Point(x1, y1, a, b)\n",
    "p2 = Point(x2, y2, a, b)\n",
    "print(p1+p2)"
   ]
  },
  {
   "cell_type": "markdown",
   "metadata": {},
   "source": [
    "### Exercise 2\n",
    "\n",
    "For the curve \\\\(y^{2}\\\\)=\\\\(x^{3}\\\\)+7 over \\\\(F_{223}\\\\), find:\n",
    "\n",
    "* (170,142) + (60,139)\n",
    "* (47,71) + (17,56)\n",
    "* (143,98) + (76,66)"
   ]
  },
  {
   "cell_type": "code",
   "execution_count": 5,
   "metadata": {},
   "outputs": [
    {
     "name": "stdout",
     "output_type": "stream",
     "text": [
      "(170, 142) + (60, 139) = Point(220,181)_0_7 FieldElement(223)\n",
      "Point(170,142)_0_7 FieldElement(223)\n",
      "(47, 71) + (17, 56) = Point(215,68)_0_7 FieldElement(223)\n",
      "Point(47,71)_0_7 FieldElement(223)\n",
      "(143, 98) + (76, 66) = Point(47,71)_0_7 FieldElement(223)\n",
      "Point(143,98)_0_7 FieldElement(223)\n"
     ]
    }
   ],
   "source": [
    "# Exercise 2\n",
    "\n",
    "prime = 223\n",
    "a = FieldElement(0, prime)\n",
    "b = FieldElement(7, prime)\n",
    "\n",
    "# (170,142) + (60,139)\n",
    "# (47,71) + (17,56)\n",
    "# (143,98) + (76,66)\n",
    "\n",
    "for x1,y1,x2,y2 in [ (170,142,60,139), (47,71,17,56), (143,98, 76,66)]:\n",
    "    print(f'({x1}, {y1}) + ({x2}, {y2})', end = \" = \")\n",
    "    x1 = FieldElement(num=x1, prime=prime)\n",
    "    y1 = FieldElement(num=y1, prime=prime)\n",
    "    x2 = FieldElement(num=x2, prime=prime)\n",
    "    y2 = FieldElement(num=y2, prime=prime)\n",
    "    p1 = Point(x1, y1, a, b)\n",
    "    p2 = Point(x2, y2, a, b)\n",
    "    print(p1+p2)\n",
    "    print(p1)"
   ]
  },
  {
   "cell_type": "markdown",
   "metadata": {},
   "source": [
    "### Exercise 3\n",
    "\n",
    "Extend `ECCTest` to test for the additions from the previous exercise. Call this `test_add`.\n",
    "\n",
    "#### Make [this test](/edit/code-ch03/ecc.py) pass: `ecc.py:ECCTest:test_add`"
   ]
  },
  {
   "cell_type": "code",
   "execution_count": 6,
   "metadata": {},
   "outputs": [
    {
     "name": "stderr",
     "output_type": "stream",
     "text": [
      ".\n",
      "----------------------------------------------------------------------\n",
      "Ran 1 test in 0.001s\n",
      "\n",
      "OK\n"
     ]
    }
   ],
   "source": [
    "# Exercise 3\n",
    "\n",
    "reload(ecc)\n",
    "run(ecc.ECCTest(\"test_add\"))"
   ]
  },
  {
   "cell_type": "markdown",
   "metadata": {},
   "source": [
    "### Exercise 4\n",
    "\n",
    "For the curve \\\\(y^{2}\\\\)=\\\\(x^{3}\\\\)+7 over \\\\(F_{223}\\\\), find:\n",
    "\n",
    "* 2⋅(192,105)\n",
    "* 2⋅(143,98)\n",
    "* 2⋅(47,71)\n",
    "* 4⋅(47,71)\n",
    "* 8⋅(47,71)\n",
    "* 21⋅(47,71)"
   ]
  },
  {
   "cell_type": "code",
   "execution_count": 7,
   "metadata": {},
   "outputs": [
    {
     "name": "stdout",
     "output_type": "stream",
     "text": [
      "Point(FieldElement_223(49),FieldElement_223(71))_FieldElement_223(0)_FieldElement_223(7)\n",
      "Point(FieldElement_223(64),FieldElement_223(168))_FieldElement_223(0)_FieldElement_223(7)\n",
      "Point(FieldElement_223(36),FieldElement_223(111))_FieldElement_223(0)_FieldElement_223(7)\n",
      "Point(FieldElement_223(194),FieldElement_223(51))_FieldElement_223(0)_FieldElement_223(7)\n",
      "Point(FieldElement_223(116),FieldElement_223(55))_FieldElement_223(0)_FieldElement_223(7)\n",
      "Point(infinity)\n",
      "Point(FieldElement_223(36),FieldElement_223(111))_FieldElement_223(0)_FieldElement_223(7)\n"
     ]
    }
   ],
   "source": [
    "# Exercise 4\n",
    "\n",
    "prime = 223\n",
    "a = FieldElement(0, prime)\n",
    "b = FieldElement(7, prime)\n",
    "\n",
    "# 2*(192, 105)\n",
    "# 2*(143, 98)\n",
    "# 2*(47, 71)\n",
    "# 4*(47, 71)\n",
    "# 8*(47, 71)\n",
    "# 21*(47, 71)\n",
    "\n",
    "# create a product variable\n",
    "# add the point to the product n times\n",
    "# print the product\n",
    "\n",
    "x1 = FieldElement(192, prime=prime)\n",
    "y1 = FieldElement(105, prime=prime)\n",
    "p = Point(x1,y1,a,b)\n",
    "print(p+p)\n",
    "\n",
    "x1 = FieldElement(143, prime=prime)\n",
    "y1 = FieldElement(98, prime=prime)\n",
    "p = Point(x1,y1,a,b)\n",
    "print(p+p)\n",
    "\n",
    "# 47, 71\n",
    "x1 = FieldElement(47, prime=prime)\n",
    "y1 = FieldElement(71, prime=prime)\n",
    "p = Point(x1,y1,a,b)\n",
    "print(p+p)\n",
    "\n",
    "x1 = FieldElement(47, prime=prime)\n",
    "y1 = FieldElement(71, prime=prime)\n",
    "p = Point(x1,y1,a,b)\n",
    "print(p+p+p+p)\n",
    "\n",
    "x1 = FieldElement(47, prime=prime)\n",
    "y1 = FieldElement(71, prime=prime)\n",
    "p = Point(x1,y1,a,b)\n",
    "print(p+p+p+p+p+p+p+p)\n",
    "\n",
    "x1 = FieldElement(47, prime=prime)\n",
    "y1 = FieldElement(71, prime=prime)\n",
    "p = Point(x1,y1,a,b)\n",
    "print(p+p+p+p+p+p+p+p+p+p+p+p+p+p+p+p+p+p+p+p+p)\n",
    "\n",
    "# --\n",
    "\n",
    "x1 = FieldElement(47, prime=prime)\n",
    "y1 = FieldElement(71, prime=prime)\n",
    "p = Point(x1,y1,a,b)\n",
    "print(2*p)\n",
    "\n"
   ]
  },
  {
   "cell_type": "code",
   "execution_count": null,
   "metadata": {},
   "outputs": [],
   "source": []
  },
  {
   "cell_type": "code",
   "execution_count": null,
   "metadata": {},
   "outputs": [],
   "source": []
  },
  {
   "cell_type": "code",
   "execution_count": 8,
   "metadata": {},
   "outputs": [
    {
     "name": "stdout",
     "output_type": "stream",
     "text": [
      "1*(47,71)=(47,71)\n",
      "2*(47,71)=(36,111)\n",
      "3*(47,71)=(15,137)\n",
      "4*(47,71)=(194,51)\n",
      "5*(47,71)=(126,96)\n",
      "6*(47,71)=(139,137)\n",
      "7*(47,71)=(92,47)\n",
      "8*(47,71)=(116,55)\n",
      "9*(47,71)=(69,86)\n",
      "10*(47,71)=(154,150)\n",
      "11*(47,71)=(154,73)\n",
      "12*(47,71)=(69,137)\n",
      "13*(47,71)=(116,168)\n",
      "14*(47,71)=(92,176)\n",
      "15*(47,71)=(139,86)\n",
      "16*(47,71)=(126,127)\n",
      "17*(47,71)=(194,172)\n",
      "18*(47,71)=(15,86)\n",
      "19*(47,71)=(36,112)\n",
      "20*(47,71)=(47,152)\n"
     ]
    }
   ],
   "source": [
    "from ecc import FieldElement, Point\n",
    "prime = 223\n",
    "a = FieldElement(0, prime)\n",
    "b = FieldElement(7, prime)\n",
    "x = FieldElement(47, prime)\n",
    "y = FieldElement(71, prime)\n",
    "p = Point(x, y, a, b)\n",
    "for s in range(1,21):\n",
    "    result = s*p\n",
    "    print('{}*(47,71)=({},{})'.format(s,result.x.num,result.y.num))"
   ]
  },
  {
   "cell_type": "markdown",
   "metadata": {},
   "source": [
    "### Exercise 5\n",
    "\n",
    "For the curve \\\\(y^{2}\\\\)=\\\\(x^{3}\\\\)+7 over \\\\(F_{223}\\\\), find the order of the group generated by (15,86)"
   ]
  },
  {
   "cell_type": "code",
   "execution_count": 9,
   "metadata": {},
   "outputs": [
    {
     "name": "stdout",
     "output_type": "stream",
     "text": [
      "7\n",
      "-------------\n",
      "1*Point(15,86)_0_7 FieldElement(223)= Point(15,86)_0_7 FieldElement(223)\n",
      "2*Point(15,86)_0_7 FieldElement(223)= Point(139,86)_0_7 FieldElement(223)\n",
      "3*Point(15,86)_0_7 FieldElement(223)= Point(69,137)_0_7 FieldElement(223)\n",
      "4*Point(15,86)_0_7 FieldElement(223)= Point(69,86)_0_7 FieldElement(223)\n",
      "5*Point(15,86)_0_7 FieldElement(223)= Point(139,137)_0_7 FieldElement(223)\n",
      "6*Point(15,86)_0_7 FieldElement(223)= Point(15,137)_0_7 FieldElement(223)\n",
      "7*Point(15,86)_0_7 FieldElement(223)= Point(infinity)\n",
      "8*Point(15,86)_0_7 FieldElement(223)= Point(15,86)_0_7 FieldElement(223)\n",
      "9*Point(15,86)_0_7 FieldElement(223)= Point(139,86)_0_7 FieldElement(223)\n",
      "10*Point(15,86)_0_7 FieldElement(223)= Point(69,137)_0_7 FieldElement(223)\n",
      "11*Point(15,86)_0_7 FieldElement(223)= Point(69,86)_0_7 FieldElement(223)\n",
      "12*Point(15,86)_0_7 FieldElement(223)= Point(139,137)_0_7 FieldElement(223)\n",
      "13*Point(15,86)_0_7 FieldElement(223)= Point(15,137)_0_7 FieldElement(223)\n",
      "14*Point(15,86)_0_7 FieldElement(223)= Point(infinity)\n"
     ]
    }
   ],
   "source": [
    "# Exercise 5\n",
    "\n",
    "prime = 223\n",
    "a = FieldElement(0, prime)\n",
    "b = FieldElement(7, prime)\n",
    "x = FieldElement(15, prime)\n",
    "y = FieldElement(86, prime)\n",
    "p = Point(x, y, a, b)\n",
    "inf = Point(None, None, a, b)\n",
    "\n",
    "# create a product variable\n",
    "# create a counter variable\n",
    "# loop until the product is the point at infinity\n",
    "# add the point to the product and increment counter\n",
    "# print the counter when exited from loop\n",
    "product = p\n",
    "s = 1\n",
    "while product != inf:\n",
    "    product += p\n",
    "#     print(f'{s}*{p}= {result}')\n",
    "    s += 1\n",
    "print(s)\n",
    "\n",
    "print(\"-------------\")\n",
    "p = Point(x, y, a, b)\n",
    "for o in range(1, 15):\n",
    "    print(f'{o}*{p}= {o*p}')"
   ]
  },
  {
   "cell_type": "code",
   "execution_count": 10,
   "metadata": {},
   "outputs": [
    {
     "name": "stdout",
     "output_type": "stream",
     "text": [
      "Point(infinity)\n"
     ]
    }
   ],
   "source": [
    "from ecc import FieldElement, Point\n",
    "prime = 223\n",
    "a = FieldElement(0, prime)\n",
    "b = FieldElement(7, prime)\n",
    "x = FieldElement(15, prime)\n",
    "y = FieldElement(86, prime)\n",
    "p = Point(x, y, a, b)\n",
    "print(7*p)"
   ]
  },
  {
   "cell_type": "code",
   "execution_count": 11,
   "metadata": {},
   "outputs": [
    {
     "name": "stdout",
     "output_type": "stream",
     "text": [
      "True\n"
     ]
    }
   ],
   "source": [
    "gx = 0x79be667ef9dcbbac55a06295ce870b07029bfcdb2dce28d959f2815b16f81798\n",
    "gy = 0x483ada7726a3c4655da4fbfc0e1108a8fd17b448a68554199c47d08ffb10d4b8\n",
    "p = 2**256 - 2**32 - 977\n",
    "print(gy**2 % p == (gx**3 + 7) % p)"
   ]
  },
  {
   "cell_type": "code",
   "execution_count": 12,
   "metadata": {},
   "outputs": [
    {
     "name": "stdout",
     "output_type": "stream",
     "text": [
      "Point(infinity)\n"
     ]
    }
   ],
   "source": [
    "from ecc import FieldElement, Point\n",
    "gx = 0x79be667ef9dcbbac55a06295ce870b07029bfcdb2dce28d959f2815b16f81798\n",
    "gy = 0x483ada7726a3c4655da4fbfc0e1108a8fd17b448a68554199c47d08ffb10d4b8\n",
    "p = 2**256 - 2**32 - 977\n",
    "n = 0xfffffffffffffffffffffffffffffffebaaedce6af48a03bbfd25e8cd0364141\n",
    "x = FieldElement(gx, p)\n",
    "y = FieldElement(gy, p)\n",
    "seven = FieldElement(7, p)\n",
    "zero = FieldElement(0, p)\n",
    "G = Point(x, y, zero, seven)\n",
    "print(n*G)"
   ]
  },
  {
   "cell_type": "code",
   "execution_count": 13,
   "metadata": {},
   "outputs": [
    {
     "name": "stdout",
     "output_type": "stream",
     "text": [
      "S256Point(infinity)\n"
     ]
    }
   ],
   "source": [
    "from ecc import G, N\n",
    "print(N*G)"
   ]
  },
  {
   "cell_type": "code",
   "execution_count": 14,
   "metadata": {},
   "outputs": [
    {
     "name": "stdout",
     "output_type": "stream",
     "text": [
      "True\n",
      "S256Point(04519fac3d910ca7e7138f7013706f619fa8f033e6ec6e09370ea38cee6a7574, 82b51eab8c27c66e26c858a079bcdf4f1ada34cec420cafc7eac1a42216fb6c4)\n"
     ]
    }
   ],
   "source": [
    "from ecc import S256Point, G, N\n",
    "z = 0xbc62d4b80d9e36da29c16c5d4d9f11731f36052c72401a76c23c0fb5a9b74423\n",
    "r = 0x37206a0610995c58074999cb9767b87af4c4978db68c06e8e6e81d282047a7c6\n",
    "s = 0x8ca63759c1157ebeaec0d03cecca119fc9a75bf8e6d0fa65c841c8e2738cdaec\n",
    "px = 0x04519fac3d910ca7e7138f7013706f619fa8f033e6ec6e09370ea38cee6a7574\n",
    "py = 0x82b51eab8c27c66e26c858a079bcdf4f1ada34cec420cafc7eac1a42216fb6c4\n",
    "point = S256Point(px, py)\n",
    "s_inv = pow(s, N-2, N)\n",
    "u = z * s_inv % N\n",
    "v = r * s_inv % N\n",
    "print((u*G + v*point).x.num == r)\n",
    "\n",
    "print(point)"
   ]
  },
  {
   "cell_type": "markdown",
   "metadata": {},
   "source": [
    "### Exercise 6\n",
    "\n",
    "Verify whether these signatures are valid:\n",
    "\n",
    "```\n",
    "P = (0x887387e452b8eacc4acfde10d9aaf7f6d9a0f975aabb10d006e4da568744d06c,\n",
    "0x61de6d95231cd89026e286df3b6ae4a894a3378e393e93a0f45b666329a0ae34)\n",
    "\n",
    "# signature 1\n",
    "z = 0xec208baa0fc1c19f708a9ca96fdeff3ac3f230bb4a7ba4aede4942ad003c0f60\n",
    "r = 0xac8d1c87e51d0d441be8b3dd5b05c8795b48875dffe00b7ffcfac23010d3a395\n",
    "s = 0x68342ceff8935ededd102dd876ffd6ba72d6a427a3edb13d26eb0781cb423c4\n",
    "\n",
    "# signature 2\n",
    "z = 0x7c076ff316692a3d7eb3c3bb0f8b1488cf72e1afcd929e29307032997a838a3d\n",
    "r = 0xeff69ef2b1bd93a66ed5219add4fb51e11a840f404876325a1e8ffe0529a2c\n",
    "s = 0xc7207fee197d27c618aea621406f6bf5ef6fca38681d82b2f06fddbdce6feab6\n",
    "```"
   ]
  },
  {
   "cell_type": "code",
   "execution_count": 15,
   "metadata": {},
   "outputs": [
    {
     "name": "stdout",
     "output_type": "stream",
     "text": [
      "First point:\n",
      "True\n",
      "s_inv gggg 100323378640741192763451357826607979131075829390957642811683296770329292192481\n",
      "N: 115792089237316195423570985008687907852837564279074904382605163141518161494337\n",
      "Second point:\n",
      "False\n"
     ]
    }
   ],
   "source": [
    "# Exercise 6\n",
    "\n",
    "point = S256Point(\n",
    "    0x887387e452b8eacc4acfde10d9aaf7f6d9a0f975aabb10d006e4da568744d06c, \n",
    "    0x61de6d95231cd89026e286df3b6ae4a894a3378e393e93a0f45b666329a0ae34)\n",
    "# signature 1\n",
    "z = 0xec208baa0fc1c19f708a9ca96fdeff3ac3f230bb4a7ba4aede4942ad003c0f60\n",
    "r = 0xac8d1c87e51d0d441be8b3dd5b05c8795b48875dffe00b7ffcfac23010d3a395\n",
    "s = 0x68342ceff8935ededd102dd876ffd6ba72d6a427a3edb13d26eb0781cb423c4\n",
    "\n",
    "s_inv = pow(s, N-2, N)\n",
    "u = z * s_inv % N\n",
    "v = r * s_inv % N\n",
    "print('First point:')\n",
    "print((u*G + v*point).x.num == r)\n",
    "# ---\n",
    "print('s_inv gggg', s_inv)\n",
    "print('N:', N)\n",
    "\n",
    "\n",
    "# ---\n",
    "\n",
    "# signature 2\n",
    "z = 0x7c076ff316692a3deb3c3bb0f8b1488cf72e1afcd929e29307032997a838a3d\n",
    "r = 0xeff69ef2b1bd93a66ed5219add4fb51e11a840f404876325a1e8ffe0529a2c\n",
    "s = 0xc7207fee197d27c618aea621406f6bf5ef6fca38681d82b2f06fddbdce6feab6\n",
    "\n",
    "\n",
    "print('Second point:')\n",
    "s_inv = pow(s, N-2, N)\n",
    "u = z * s_inv % N\n",
    "v = r * s_inv % N\n",
    "print((u*G + v*point).x.num == r)\n"
   ]
  },
  {
   "cell_type": "code",
   "execution_count": 16,
   "metadata": {},
   "outputs": [
    {
     "name": "stdout",
     "output_type": "stream",
     "text": [
      "S256Point(028d003eab2e428d11983f3e97c3fa0addf3b42740df0d211795ffb3be2f6c52, 0ae987b9ec6ea159c78cb2a937ed89096fb218d9e7594f02b547526d8cd309e2)\n",
      "0x231c6f3d980a6b0fb7152f85cee7eb52bf92433d9919b9c5218cb08e79cce78\n",
      "0x2b698a0f0a4041b77e63488ad48c23e8e8838dd1fb7520408b121697b782ef22\n",
      "0xbb14e602ef9e3f872e25fad328466b34e6734b7a0fcd58b1eb635447ffae8cb9\n"
     ]
    }
   ],
   "source": [
    "from ecc import S256Point, G, N\n",
    "from helper import hash256\n",
    "e = int.from_bytes(hash256(b'my secret'), 'big')\n",
    "z = int.from_bytes(hash256(b'my message'), 'big')\n",
    "k = 1234567890\n",
    "r = (k*G).x.num\n",
    "k_inv = pow(k, N-2, N)\n",
    "s = (z+r*e) * k_inv % N\n",
    "point = e*G\n",
    "print(point)\n",
    "print(hex(z))\n",
    "print(hex(r))\n",
    "print(hex(s))"
   ]
  },
  {
   "cell_type": "markdown",
   "metadata": {},
   "source": [
    "### Exercise 7\n",
    "\n",
    "Sign the following message with the secret\n",
    "\n",
    "```\n",
    "e = 12345\n",
    "z = int.from_bytes(hash256('Programming Bitcoin!'), 'big')\n",
    "```"
   ]
  },
  {
   "cell_type": "code",
   "execution_count": 27,
   "metadata": {},
   "outputs": [
    {
     "data": {
      "text/plain": [
       "b'\\x96\\x9f`V\\xaa&\\xf7\\xd2y_\\xd0\\x13\\xfe\\x88\\x86\\x8d\\t\\xc9\\xf6\\xae\\xd9ie\\x01n\\x196\\xaeG\\x06\\rH'"
      ]
     },
     "execution_count": 27,
     "metadata": {},
     "output_type": "execute_result"
    }
   ],
   "source": [
    "hash256(b'Programming Bitcoin!')"
   ]
  },
  {
   "cell_type": "code",
   "execution_count": 28,
   "metadata": {},
   "outputs": [
    {
     "name": "stdout",
     "output_type": "stream",
     "text": [
      "z is 68128520874913546745294642417570923341793882471965920093685935829550641843528\n",
      "77\n"
     ]
    }
   ],
   "source": [
    "z = int.from_bytes(hash256(b'Programming Bitcoin!'), 'big')\n",
    "print('z is' , z)\n",
    "print(len(str(z)))\n"
   ]
  },
  {
   "cell_type": "code",
   "execution_count": 29,
   "metadata": {},
   "outputs": [
    {
     "name": "stdout",
     "output_type": "stream",
     "text": [
      "z is 68128520874913546745294642417570923341793882471965920093685935829550641843528\n",
      "77\n",
      "S256Point(f01d6b9018ab421dd410404cb869072065522bf85734008f105cf385a023a80f, 0eba29d0f0c5408ed681984dc525982abefccd9f7ff01dd26da4999cf3f6a295)\n",
      "z 0x969f6056aa26f7d2795fd013fe88868d09c9f6aed96965016e1936ae47060d48\n",
      "68128520874913546745294642417570923341793882471965920093685935829550641843528\n",
      "r 0x8d5fa615a0d1149635a0c8d8b9fce1bba5e7fe89ed2cd96f0eebc76ffd8b93d\n",
      "3996569274648933242339472150108590387151373773961509897675859815354066319677\n",
      "s 0x2d9db0b942084958a54e25b9c4b38e9e8a89725f7670fcfc19be8473435551ad\n",
      "20632692877318382500793989059561478857843795989088992665142684276484121907629\n",
      "--- verify\n",
      "True\n"
     ]
    }
   ],
   "source": [
    "# Exercise 7\n",
    "\n",
    "# Exercise 7\n",
    "\n",
    "e = 12345\n",
    "z = int.from_bytes(hash256(b'Programming Bitcoin!'), 'big')\n",
    "print('z is' , z)\n",
    "print(len(str(z)))\n",
    "\n",
    "# choose a random k\n",
    "k = 8972917216\n",
    "# calculate r (kG's x-coordinate)\n",
    "r = (k*G).x.num\n",
    "# calculate s ((z+re)/k)\n",
    "k_inv = pow(k, N-2, N)\n",
    "s = (z + r*e) * k_inv % N\n",
    "# print the point, z, r and s\n",
    "point = e*G\n",
    "\n",
    "# share 4 things: public point (key) , z (message), signature (r,s)\n",
    "print(point)\n",
    "print('z', hex(z))\n",
    "print(z)\n",
    "print('r', hex(r))\n",
    "print(r)\n",
    "print('s', hex(s))\n",
    "print(s)\n",
    "\n",
    "print('--- verify')\n",
    "\n",
    "s_inv = pow(s, N-2, N)\n",
    "u = z * s_inv % N\n",
    "v = r * s_inv % N\n",
    "print((u*G + v*point).x.num == r)\n"
   ]
  },
  {
   "cell_type": "code",
   "execution_count": 20,
   "metadata": {},
   "outputs": [],
   "source": [
    "  def deterministic_k(self, z):\n",
    "        k = b'\\x00' * 32\n",
    "        v = b'\\x01' * 32\n",
    "        if z > N:\n",
    "            z -= N\n",
    "        z_bytes = z.to_bytes(32, 'big')\n",
    "        secret_bytes = self.secret.to_bytes(32, 'big')\n",
    "        s256 = hashlib.sha256\n",
    "        k = hmac.new(k, v + b'\\x00' + secret_bytes + z_bytes, s256).digest()\n",
    "        v = hmac.new(k, v, s256).digest()\n",
    "        k = hmac.new(k, v + b'\\x01' + secret_bytes + z_bytes, s256).digest()\n",
    "        v = hmac.new(k, v, s256).digest()\n",
    "        while True:\n",
    "            v = hmac.new(k, v, s256).digest()\n",
    "            candidate = int.from_bytes(v, 'big')\n",
    "            if candidate >= 1 and candidate < N:\n",
    "                return candidate  # <2>\n",
    "            k = hmac.new(k, v + b'\\x00', s256).digest()\n",
    "            v = hmac.new(k, v, s256).digest()"
   ]
  },
  {
   "cell_type": "code",
   "execution_count": 26,
   "metadata": {},
   "outputs": [
    {
     "name": "stdout",
     "output_type": "stream",
     "text": [
      "z in int 32 68128520874913546745294642417570923341793882471965920093685935829550641843528\n",
      "z in bytes b'\\x96\\x9f`V\\xaa&\\xf7\\xd2y_\\xd0\\x13\\xfe\\x88\\x86\\x8d\\t\\xc9\\xf6\\xae\\xd9ie\\x01n\\x196\\xaeG\\x06\\rH'\n"
     ]
    }
   ],
   "source": [
    "z = int.from_bytes(hash256(b'Programming Bitcoin!'), 'big')\n",
    "z_bytes = z.to_bytes(32, 'big')\n",
    "\n",
    "k = b'\\x00' * 32\n",
    "k\n",
    "v = b'\\x01' * 32\n",
    "\n",
    "print('z in int 32', z)\n",
    "print('z in bytes' ,z_bytes)"
   ]
  },
  {
   "cell_type": "code",
   "execution_count": 22,
   "metadata": {},
   "outputs": [
    {
     "data": {
      "text/plain": [
       "bytes"
      ]
     },
     "execution_count": 22,
     "metadata": {},
     "output_type": "execute_result"
    }
   ],
   "source": [
    "type(k)"
   ]
  },
  {
   "cell_type": "code",
   "execution_count": 23,
   "metadata": {},
   "outputs": [
    {
     "data": {
      "text/plain": [
       "b'\\x00\\x00\\x00\\x00\\x00\\x00\\x00\\x00\\x00\\x00\\x00\\x00\\x00\\x00\\x00\\x00\\x00\\x00\\x00\\x00\\x00\\x00\\x00\\x00\\x00\\x00\\x00\\x00\\x00\\x0009'"
      ]
     },
     "execution_count": 23,
     "metadata": {},
     "output_type": "execute_result"
    }
   ],
   "source": [
    "secret = 12345\n",
    "secret_bytes = secret.to_bytes(32, 'big')\n",
    "secret_bytes"
   ]
  },
  {
   "cell_type": "code",
   "execution_count": 38,
   "metadata": {},
   "outputs": [
    {
     "data": {
      "text/plain": [
       "b'\\x14w\\x90\\xdc\\x9aG\\x8e\\n\\xbf\\x04\\xb8\\x02\\xa8\\t\\x94\\x167\\xbb\\xf0H\\xad\\xa2\\x11\\x89\\xc0\\xf1W\\xe1\\xab\\xb0\\xcac'"
      ]
     },
     "execution_count": 38,
     "metadata": {},
     "output_type": "execute_result"
    }
   ],
   "source": [
    "import hashlib\n",
    "import hmac\n",
    "\n",
    "s256 = hashlib.sha256\n",
    "\n",
    "k = hmac.new(k, v + b'\\x00' + secret_bytes + z_bytes, s256).digest()\n",
    "k"
   ]
  },
  {
   "cell_type": "code",
   "execution_count": null,
   "metadata": {},
   "outputs": [],
   "source": []
  },
  {
   "cell_type": "code",
   "execution_count": null,
   "metadata": {},
   "outputs": [],
   "source": []
  }
 ],
 "metadata": {
  "kernelspec": {
   "display_name": "Python 3 (ipykernel)",
   "language": "python",
   "name": "python3"
  },
  "language_info": {
   "codemirror_mode": {
    "name": "ipython",
    "version": 3
   },
   "file_extension": ".py",
   "mimetype": "text/x-python",
   "name": "python",
   "nbconvert_exporter": "python",
   "pygments_lexer": "ipython3",
   "version": "3.9.12"
  }
 },
 "nbformat": 4,
 "nbformat_minor": 2
}
